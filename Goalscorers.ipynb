{
 "cells": [
  {
   "cell_type": "code",
   "execution_count": 1,
   "id": "0d992f98",
   "metadata": {},
   "outputs": [],
   "source": [
    "import pandas as pd\n",
    "dataset = pd.read_csv(\"./dataset - 2020-09-24.csv\")"
   ]
  },
  {
   "cell_type": "code",
   "execution_count": 2,
   "id": "7387cd2d",
   "metadata": {},
   "outputs": [
    {
     "data": {
      "text/plain": [
       "Index(['Name', 'Jersey Number', 'Club', 'Position', 'Nationality', 'Age',\n",
       "       'Appearances', 'Wins', 'Losses', 'Goals', 'Goals per match',\n",
       "       'Headed goals', 'Goals with right foot', 'Goals with left foot',\n",
       "       'Penalties scored', 'Freekicks scored', 'Shots', 'Shots on target',\n",
       "       'Shooting accuracy %', 'Hit woodwork', 'Big chances missed',\n",
       "       'Clean sheets', 'Goals conceded', 'Tackles', 'Tackle success %',\n",
       "       'Last man tackles', 'Blocked shots', 'Interceptions', 'Clearances',\n",
       "       'Headed Clearance', 'Clearances off line', 'Recoveries', 'Duels won',\n",
       "       'Duels lost', 'Successful 50/50s', 'Aerial battles won',\n",
       "       'Aerial battles lost', 'Own goals', 'Errors leading to goal', 'Assists',\n",
       "       'Passes', 'Passes per match', 'Big chances created', 'Crosses',\n",
       "       'Cross accuracy %', 'Through balls', 'Accurate long balls', 'Saves',\n",
       "       'Penalties saved', 'Punches', 'High Claims', 'Catches',\n",
       "       'Sweeper clearances', 'Throw outs', 'Goal Kicks', 'Yellow cards',\n",
       "       'Red cards', 'Fouls', 'Offsides'],\n",
       "      dtype='object')"
      ]
     },
     "execution_count": 2,
     "metadata": {},
     "output_type": "execute_result"
    }
   ],
   "source": [
    "dataset.columns"
   ]
  },
  {
   "cell_type": "code",
   "execution_count": 3,
   "id": "df736bd1",
   "metadata": {},
   "outputs": [
    {
     "data": {
      "text/plain": [
       "0      NaN\n",
       "1      NaN\n",
       "2      NaN\n",
       "3      3.0\n",
       "4      0.0\n",
       "      ... \n",
       "566    0.0\n",
       "567    7.0\n",
       "568    2.0\n",
       "569    0.0\n",
       "570    0.0\n",
       "Name: Hit woodwork, Length: 571, dtype: float64"
      ]
     },
     "execution_count": 3,
     "metadata": {},
     "output_type": "execute_result"
    }
   ],
   "source": [
    "dataset['Hit woodwork']"
   ]
  },
  {
   "cell_type": "code",
   "execution_count": 4,
   "id": "5e87b769",
   "metadata": {},
   "outputs": [
    {
     "name": "stderr",
     "output_type": "stream",
     "text": [
      "/var/folders/g4/vjl4gjkx3z9038wmy9rj_z3r0000gn/T/ipykernel_92506/1654668495.py:2: SettingWithCopyWarning: \n",
      "A value is trying to be set on a copy of a slice from a DataFrame\n",
      "\n",
      "See the caveats in the documentation: https://pandas.pydata.org/pandas-docs/stable/user_guide/indexing.html#returning-a-view-versus-a-copy\n",
      "  dataset.Position[dataset.Position == 'Goalkeeper'] = 0\n",
      "/var/folders/g4/vjl4gjkx3z9038wmy9rj_z3r0000gn/T/ipykernel_92506/1654668495.py:3: SettingWithCopyWarning: \n",
      "A value is trying to be set on a copy of a slice from a DataFrame\n",
      "\n",
      "See the caveats in the documentation: https://pandas.pydata.org/pandas-docs/stable/user_guide/indexing.html#returning-a-view-versus-a-copy\n",
      "  dataset.Position[dataset.Position == 'Defender'] = 1\n",
      "/var/folders/g4/vjl4gjkx3z9038wmy9rj_z3r0000gn/T/ipykernel_92506/1654668495.py:4: SettingWithCopyWarning: \n",
      "A value is trying to be set on a copy of a slice from a DataFrame\n",
      "\n",
      "See the caveats in the documentation: https://pandas.pydata.org/pandas-docs/stable/user_guide/indexing.html#returning-a-view-versus-a-copy\n",
      "  dataset.Position[dataset.Position == 'Midfielder'] = 2\n",
      "/var/folders/g4/vjl4gjkx3z9038wmy9rj_z3r0000gn/T/ipykernel_92506/1654668495.py:5: SettingWithCopyWarning: \n",
      "A value is trying to be set on a copy of a slice from a DataFrame\n",
      "\n",
      "See the caveats in the documentation: https://pandas.pydata.org/pandas-docs/stable/user_guide/indexing.html#returning-a-view-versus-a-copy\n",
      "  dataset.Position[dataset.Position == 'Forward'] = 3\n",
      "/var/folders/g4/vjl4gjkx3z9038wmy9rj_z3r0000gn/T/ipykernel_92506/1654668495.py:14: SettingWithCopyWarning: \n",
      "A value is trying to be set on a copy of a slice from a DataFrame\n",
      "\n",
      "See the caveats in the documentation: https://pandas.pydata.org/pandas-docs/stable/user_guide/indexing.html#returning-a-view-versus-a-copy\n",
      "  dataset.Club[dataset.Club == 'Arsenal'] = 8\n",
      "/var/folders/g4/vjl4gjkx3z9038wmy9rj_z3r0000gn/T/ipykernel_92506/1654668495.py:15: SettingWithCopyWarning: \n",
      "A value is trying to be set on a copy of a slice from a DataFrame\n",
      "\n",
      "See the caveats in the documentation: https://pandas.pydata.org/pandas-docs/stable/user_guide/indexing.html#returning-a-view-versus-a-copy\n",
      "  dataset.Club[dataset.Club == 'Aston-Villa'] = 11\n",
      "/var/folders/g4/vjl4gjkx3z9038wmy9rj_z3r0000gn/T/ipykernel_92506/1654668495.py:16: SettingWithCopyWarning: \n",
      "A value is trying to be set on a copy of a slice from a DataFrame\n",
      "\n",
      "See the caveats in the documentation: https://pandas.pydata.org/pandas-docs/stable/user_guide/indexing.html#returning-a-view-versus-a-copy\n",
      "  dataset.Club[dataset.Club == 'Brighton-and-Hove-Albion'] = 16\n",
      "/var/folders/g4/vjl4gjkx3z9038wmy9rj_z3r0000gn/T/ipykernel_92506/1654668495.py:17: SettingWithCopyWarning: \n",
      "A value is trying to be set on a copy of a slice from a DataFrame\n",
      "\n",
      "See the caveats in the documentation: https://pandas.pydata.org/pandas-docs/stable/user_guide/indexing.html#returning-a-view-versus-a-copy\n",
      "  dataset.Club[dataset.Club == 'Burnley'] = 17\n",
      "/var/folders/g4/vjl4gjkx3z9038wmy9rj_z3r0000gn/T/ipykernel_92506/1654668495.py:18: SettingWithCopyWarning: \n",
      "A value is trying to be set on a copy of a slice from a DataFrame\n",
      "\n",
      "See the caveats in the documentation: https://pandas.pydata.org/pandas-docs/stable/user_guide/indexing.html#returning-a-view-versus-a-copy\n",
      "  dataset.Club[dataset.Club == 'Chelsea'] = 4\n",
      "/var/folders/g4/vjl4gjkx3z9038wmy9rj_z3r0000gn/T/ipykernel_92506/1654668495.py:19: SettingWithCopyWarning: \n",
      "A value is trying to be set on a copy of a slice from a DataFrame\n",
      "\n",
      "See the caveats in the documentation: https://pandas.pydata.org/pandas-docs/stable/user_guide/indexing.html#returning-a-view-versus-a-copy\n",
      "  dataset.Club[dataset.Club == 'Crystal-Palace'] = 14\n",
      "/var/folders/g4/vjl4gjkx3z9038wmy9rj_z3r0000gn/T/ipykernel_92506/1654668495.py:20: SettingWithCopyWarning: \n",
      "A value is trying to be set on a copy of a slice from a DataFrame\n",
      "\n",
      "See the caveats in the documentation: https://pandas.pydata.org/pandas-docs/stable/user_guide/indexing.html#returning-a-view-versus-a-copy\n",
      "  dataset.Club[dataset.Club == 'Everton'] = 10\n",
      "/var/folders/g4/vjl4gjkx3z9038wmy9rj_z3r0000gn/T/ipykernel_92506/1654668495.py:21: SettingWithCopyWarning: \n",
      "A value is trying to be set on a copy of a slice from a DataFrame\n",
      "\n",
      "See the caveats in the documentation: https://pandas.pydata.org/pandas-docs/stable/user_guide/indexing.html#returning-a-view-versus-a-copy\n",
      "  dataset.Club[dataset.Club == 'Fulham'] = 18\n",
      "/var/folders/g4/vjl4gjkx3z9038wmy9rj_z3r0000gn/T/ipykernel_92506/1654668495.py:22: SettingWithCopyWarning: \n",
      "A value is trying to be set on a copy of a slice from a DataFrame\n",
      "\n",
      "See the caveats in the documentation: https://pandas.pydata.org/pandas-docs/stable/user_guide/indexing.html#returning-a-view-versus-a-copy\n",
      "  dataset.Club[dataset.Club == 'Leeds-United'] = 9\n",
      "/var/folders/g4/vjl4gjkx3z9038wmy9rj_z3r0000gn/T/ipykernel_92506/1654668495.py:23: SettingWithCopyWarning: \n",
      "A value is trying to be set on a copy of a slice from a DataFrame\n",
      "\n",
      "See the caveats in the documentation: https://pandas.pydata.org/pandas-docs/stable/user_guide/indexing.html#returning-a-view-versus-a-copy\n",
      "  dataset.Club[dataset.Club == 'Leicester-City'] = 5\n",
      "/var/folders/g4/vjl4gjkx3z9038wmy9rj_z3r0000gn/T/ipykernel_92506/1654668495.py:24: SettingWithCopyWarning: \n",
      "A value is trying to be set on a copy of a slice from a DataFrame\n",
      "\n",
      "See the caveats in the documentation: https://pandas.pydata.org/pandas-docs/stable/user_guide/indexing.html#returning-a-view-versus-a-copy\n",
      "  dataset.Club[dataset.Club == 'Liverpool'] = 3\n",
      "/var/folders/g4/vjl4gjkx3z9038wmy9rj_z3r0000gn/T/ipykernel_92506/1654668495.py:25: SettingWithCopyWarning: \n",
      "A value is trying to be set on a copy of a slice from a DataFrame\n",
      "\n",
      "See the caveats in the documentation: https://pandas.pydata.org/pandas-docs/stable/user_guide/indexing.html#returning-a-view-versus-a-copy\n",
      "  dataset.Club[dataset.Club == 'Manchester-City'] = 1\n",
      "/var/folders/g4/vjl4gjkx3z9038wmy9rj_z3r0000gn/T/ipykernel_92506/1654668495.py:26: SettingWithCopyWarning: \n",
      "A value is trying to be set on a copy of a slice from a DataFrame\n",
      "\n",
      "See the caveats in the documentation: https://pandas.pydata.org/pandas-docs/stable/user_guide/indexing.html#returning-a-view-versus-a-copy\n",
      "  dataset.Club[dataset.Club == 'Manchester-United'] = 2\n",
      "/var/folders/g4/vjl4gjkx3z9038wmy9rj_z3r0000gn/T/ipykernel_92506/1654668495.py:27: SettingWithCopyWarning: \n",
      "A value is trying to be set on a copy of a slice from a DataFrame\n",
      "\n",
      "See the caveats in the documentation: https://pandas.pydata.org/pandas-docs/stable/user_guide/indexing.html#returning-a-view-versus-a-copy\n",
      "  dataset.Club[dataset.Club == 'Newcastle-United'] = 12\n",
      "/var/folders/g4/vjl4gjkx3z9038wmy9rj_z3r0000gn/T/ipykernel_92506/1654668495.py:28: SettingWithCopyWarning: \n",
      "A value is trying to be set on a copy of a slice from a DataFrame\n",
      "\n",
      "See the caveats in the documentation: https://pandas.pydata.org/pandas-docs/stable/user_guide/indexing.html#returning-a-view-versus-a-copy\n",
      "  dataset.Club[dataset.Club == 'Sheffield-United'] = 20\n",
      "/var/folders/g4/vjl4gjkx3z9038wmy9rj_z3r0000gn/T/ipykernel_92506/1654668495.py:29: SettingWithCopyWarning: \n",
      "A value is trying to be set on a copy of a slice from a DataFrame\n",
      "\n",
      "See the caveats in the documentation: https://pandas.pydata.org/pandas-docs/stable/user_guide/indexing.html#returning-a-view-versus-a-copy\n",
      "  dataset.Club[dataset.Club == 'Southampton'] = 15\n",
      "/var/folders/g4/vjl4gjkx3z9038wmy9rj_z3r0000gn/T/ipykernel_92506/1654668495.py:30: SettingWithCopyWarning: \n",
      "A value is trying to be set on a copy of a slice from a DataFrame\n",
      "\n",
      "See the caveats in the documentation: https://pandas.pydata.org/pandas-docs/stable/user_guide/indexing.html#returning-a-view-versus-a-copy\n",
      "  dataset.Club[dataset.Club == 'Tottenham-Hotspur'] = 7\n",
      "/var/folders/g4/vjl4gjkx3z9038wmy9rj_z3r0000gn/T/ipykernel_92506/1654668495.py:31: SettingWithCopyWarning: \n",
      "A value is trying to be set on a copy of a slice from a DataFrame\n",
      "\n",
      "See the caveats in the documentation: https://pandas.pydata.org/pandas-docs/stable/user_guide/indexing.html#returning-a-view-versus-a-copy\n",
      "  dataset.Club[dataset.Club == 'West-Bromwich-Albion'] = 19\n",
      "/var/folders/g4/vjl4gjkx3z9038wmy9rj_z3r0000gn/T/ipykernel_92506/1654668495.py:32: SettingWithCopyWarning: \n",
      "A value is trying to be set on a copy of a slice from a DataFrame\n",
      "\n",
      "See the caveats in the documentation: https://pandas.pydata.org/pandas-docs/stable/user_guide/indexing.html#returning-a-view-versus-a-copy\n",
      "  dataset.Club[dataset.Club == 'West-Ham-United'] = 6\n",
      "/var/folders/g4/vjl4gjkx3z9038wmy9rj_z3r0000gn/T/ipykernel_92506/1654668495.py:33: SettingWithCopyWarning: \n",
      "A value is trying to be set on a copy of a slice from a DataFrame\n",
      "\n",
      "See the caveats in the documentation: https://pandas.pydata.org/pandas-docs/stable/user_guide/indexing.html#returning-a-view-versus-a-copy\n",
      "  dataset.Club[dataset.Club == 'Wolverhampton-Wanderers'] = 13\n"
     ]
    }
   ],
   "source": [
    "#Converting Positions to numbers\n",
    "dataset.Position[dataset.Position == 'Goalkeeper'] = 0\n",
    "dataset.Position[dataset.Position == 'Defender'] = 1\n",
    "dataset.Position[dataset.Position == 'Midfielder'] = 2\n",
    "dataset.Position[dataset.Position == 'Forward'] = 3\n",
    "\n",
    "#Converting empty cells to 0\n",
    "dataset['Shots'] = dataset['Shots'].fillna(0)\n",
    "dataset['Shots on target'] = dataset['Shots on target'].fillna(0)\n",
    "dataset['Hit woodwork'] = dataset['Hit woodwork'].fillna(0)\n",
    "dataset['Offsides'] = dataset['Offsides'].fillna(0)\n",
    "\n",
    "#Converting Clubs to numbers\n",
    "dataset.Club[dataset.Club == 'Arsenal'] = 8\n",
    "dataset.Club[dataset.Club == 'Aston-Villa'] = 11\n",
    "dataset.Club[dataset.Club == 'Brighton-and-Hove-Albion'] = 16\n",
    "dataset.Club[dataset.Club == 'Burnley'] = 17\n",
    "dataset.Club[dataset.Club == 'Chelsea'] = 4\n",
    "dataset.Club[dataset.Club == 'Crystal-Palace'] = 14\n",
    "dataset.Club[dataset.Club == 'Everton'] = 10\n",
    "dataset.Club[dataset.Club == 'Fulham'] = 18\n",
    "dataset.Club[dataset.Club == 'Leeds-United'] = 9\n",
    "dataset.Club[dataset.Club == 'Leicester-City'] = 5\n",
    "dataset.Club[dataset.Club == 'Liverpool'] = 3\n",
    "dataset.Club[dataset.Club == 'Manchester-City'] = 1\n",
    "dataset.Club[dataset.Club == 'Manchester-United'] = 2\n",
    "dataset.Club[dataset.Club == 'Newcastle-United'] = 12\n",
    "dataset.Club[dataset.Club == 'Sheffield-United'] = 20\n",
    "dataset.Club[dataset.Club == 'Southampton'] = 15\n",
    "dataset.Club[dataset.Club == 'Tottenham-Hotspur'] = 7\n",
    "dataset.Club[dataset.Club == 'West-Bromwich-Albion'] = 19\n",
    "dataset.Club[dataset.Club == 'West-Ham-United'] = 6\n",
    "dataset.Club[dataset.Club == 'Wolverhampton-Wanderers'] = 13"
   ]
  },
  {
   "cell_type": "code",
   "execution_count": 5,
   "id": "d20176bc",
   "metadata": {},
   "outputs": [
    {
     "data": {
      "text/plain": [
       "0      0.0\n",
       "1      0.0\n",
       "2      0.0\n",
       "3      3.0\n",
       "4      0.0\n",
       "      ... \n",
       "566    0.0\n",
       "567    7.0\n",
       "568    2.0\n",
       "569    0.0\n",
       "570    0.0\n",
       "Name: Hit woodwork, Length: 571, dtype: float64"
      ]
     },
     "execution_count": 5,
     "metadata": {},
     "output_type": "execute_result"
    }
   ],
   "source": [
    "dataset['Hit woodwork']"
   ]
  },
  {
   "cell_type": "code",
   "execution_count": 15,
   "id": "665139ee",
   "metadata": {},
   "outputs": [
    {
     "data": {
      "text/plain": [
       "<AxesSubplot:>"
      ]
     },
     "execution_count": 15,
     "metadata": {},
     "output_type": "execute_result"
    },
    {
     "data": {
      "image/png": "[encoded data removed]",
      "text/plain": [
       "<Figure size 432x288 with 2 Axes>"
      ]
     },
     "metadata": {
      "needs_background": "light"
     },
     "output_type": "display_data"
    }
   ],
   "source": [
    "import seaborn as sns\n",
    "sns.heatmap(dataset[['Appearances', 'Shots', 'Shots on target', 'Hit woodwork', 'Offsides', 'Goals']].corr())"
   ]
  },
  {
   "cell_type": "code",
   "execution_count": 7,
   "id": "867374de",
   "metadata": {},
   "outputs": [
    {
     "data": {
      "text/plain": [
       "<matplotlib.collections.PathCollection at 0x7fcb5b033f40>"
      ]
     },
     "execution_count": 7,
     "metadata": {},
     "output_type": "execute_result"
    },
    {
     "data": {
      "image/png": "[encoded data removed]",
      "text/plain": [
       "<Figure size 432x288 with 1 Axes>"
      ]
     },
     "metadata": {
      "needs_background": "light"
     },
     "output_type": "display_data"
    }
   ],
   "source": [
    "import matplotlib.pyplot as plt\n",
    "%matplotlib inline\n",
    "\n",
    "plt.scatter(dataset['Offsides'], dataset['Goals'])"
   ]
  },
  {
   "cell_type": "code",
   "execution_count": 8,
   "id": "c6660030",
   "metadata": {},
   "outputs": [],
   "source": [
    "x = dataset[['Appearances', 'Shots', 'Shots on target', 'Hit woodwork', 'Offsides']]\n",
    "target = dataset[['Goals']]"
   ]
  },
  {
   "cell_type": "code",
   "execution_count": 9,
   "id": "8e89f678",
   "metadata": {},
   "outputs": [],
   "source": [
    "from sklearn.model_selection import train_test_split\n",
    "x_train, x_test, target_train, target_test = train_test_split(x, target, test_size=0.3, random_state=101)"
   ]
  },
  {
   "cell_type": "code",
   "execution_count": 10,
   "id": "a5c5adcf",
   "metadata": {},
   "outputs": [],
   "source": [
    "from sklearn.linear_model import LinearRegression\n",
    "lm = LinearRegression()\n",
    "lm.fit(x_train, target_train)\n",
    "predictions = lm.predict(x_test)"
   ]
  },
  {
   "cell_type": "code",
   "execution_count": 11,
   "id": "a8f3e0be",
   "metadata": {},
   "outputs": [
    {
     "name": "stdout",
     "output_type": "stream",
     "text": [
      "[-0.25199884]\n"
     ]
    }
   ],
   "source": [
    "print(lm .intercept_)"
   ]
  },
  {
   "cell_type": "code",
   "execution_count": 12,
   "id": "9ebd7c63",
   "metadata": {},
   "outputs": [
    {
     "data": {
      "text/plain": [
       "array([[ 0.02380541, -0.09130583,  0.43700558,  0.4792103 ,  0.12479319]])"
      ]
     },
     "execution_count": 12,
     "metadata": {},
     "output_type": "execute_result"
    }
   ],
   "source": [
    "lm.coef_"
   ]
  },
  {
   "cell_type": "code",
   "execution_count": 13,
   "id": "75db41ff",
   "metadata": {},
   "outputs": [
    {
     "data": {
      "text/plain": [
       "<matplotlib.collections.PathCollection at 0x7fcb48213820>"
      ]
     },
     "execution_count": 13,
     "metadata": {},
     "output_type": "execute_result"
    },
    {
     "data": {
      "image/png": "[encoded data removed]",
      "text/plain": [
       "<Figure size 432x288 with 1 Axes>"
      ]
     },
     "metadata": {
      "needs_background": "light"
     },
     "output_type": "display_data"
    }
   ],
   "source": [
    "plt.scatter(target_test, predictions)"
   ]
  },
  {
   "cell_type": "code",
   "execution_count": 14,
   "id": "e2cd528c",
   "metadata": {},
   "outputs": [
    {
     "data": {
      "text/plain": [
       "2.3588526091499356"
      ]
     },
     "execution_count": 14,
     "metadata": {},
     "output_type": "execute_result"
    }
   ],
   "source": [
    "from sklearn import metrics\n",
    "metrics.mean_absolute_error(target_test, predictions)"
   ]
  },
  {
   "cell_type": "code",
   "execution_count": null,
   "id": "965db691",
   "metadata": {},
   "outputs": [],
   "source": []
  }
 ],
 "metadata": {
  "kernelspec": {
   "display_name": "Python 3 (ipykernel)",
   "language": "python",
   "name": "python3"
  },
  "language_info": {
   "codemirror_mode": {
    "name": "ipython",
    "version": 3
   },
   "file_extension": ".py",
   "mimetype": "text/x-python",
   "name": "python",
   "nbconvert_exporter": "python",
   "pygments_lexer": "ipython3",
   "version": "3.9.7"
  }
 },
 "nbformat": 4,
 "nbformat_minor": 5
}
